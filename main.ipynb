{
 "cells": [
  {
   "cell_type": "markdown",
   "metadata": {},
   "source": [
    "#### DTUMOS 0단계 \n",
    "- 시뮬레이션을 하는 데이터를 시뮬레이션 module에 맞게 정제하며, 본인이 원하는 분석 시간 범위를 결정한다."
   ]
  },
  {
   "cell_type": "code",
   "execution_count": 1,
   "metadata": {},
   "outputs": [
    {
     "name": "stderr",
     "output_type": "stream",
     "text": [
      "/home/yh_zoo/.local/lib/python3.8/site-packages/pandas/core/dtypes/cast.py:122: ShapelyDeprecationWarning: The array interface is deprecated and will no longer work in Shapely 2.0. Convert the '.coords' to a numpy array instead.\n",
      "  arr = construct_1d_object_array_from_listlike(values)\n",
      "/home/yh_zoo/.local/lib/python3.8/site-packages/pandas/core/dtypes/cast.py:122: ShapelyDeprecationWarning: The array interface is deprecated and will no longer work in Shapely 2.0. Convert the '.coords' to a numpy array instead.\n",
      "  arr = construct_1d_object_array_from_listlike(values)\n"
     ]
    }
   ],
   "source": [
    "import pandas as pd \n",
    "from shapely.geometry import Point\n",
    "\n",
    "taxi_raw_data = pd.read_csv('./data/raw_data/train.csv')\n",
    "\n",
    "essential_columns = ['id', 'pickup_datetime', 'dropoff_datetime', 'pickup_longitude', 'pickup_latitude', 'dropoff_longitude', 'dropoff_latitude']\n",
    "taxi_raw_data = taxi_raw_data[essential_columns]\n",
    "\n",
    "taxi_raw_data = taxi_raw_data.rename(columns={'id':'taxi_id', 'pickup_datetime':'ride_time','dropoff_datetime':'alight_time',\n",
    "                                              'pickup_longitude':'ride_lon', 'pickup_latitude':'ride_lat', 'dropoff_longitude':'alight_lon', \n",
    "                                              'dropoff_latitude':'alight_lat'})\n",
    "\n",
    "# 문자열로 되어 있는 시간을 datetime type으로 변경\n",
    "taxi_raw_data['ride_time'] = pd.to_datetime(taxi_raw_data['ride_time'], format='%Y-%m-%d %H:%M:%S')\n",
    "taxi_raw_data['alight_time'] = pd.to_datetime(taxi_raw_data['alight_time'], format='%Y-%m-%d %H:%M:%S')\n",
    "\n",
    "# 분석 타겟 시간은 2016-04-08 \n",
    "taxi_raw_data = taxi_raw_data.loc[(taxi_raw_data['ride_time'] >= pd.Timestamp(2016,4,8)) & (taxi_raw_data['alight_time'] < pd.Timestamp(2016,4,9))]\n",
    "\n",
    "taxi_raw_data['ride_geometry'] = [Point(i[0],i[1]) for i in taxi_raw_data[['ride_lon', 'ride_lat']].values]\n",
    "taxi_raw_data['alight_geometry'] = [Point(i[0],i[1]) for i in taxi_raw_data[['alight_lon', 'alight_lat']].values]"
   ]
  },
  {
   "cell_type": "markdown",
   "metadata": {},
   "source": [
    "---\n",
    "#### DTUMOS 1단계\n",
    "- convert_data.py\n",
    "    - generate_random_location.py"
   ]
  },
  {
   "cell_type": "code",
   "execution_count": 2,
   "metadata": {},
   "outputs": [
    {
     "name": "stderr",
     "output_type": "stream",
     "text": [
      "/home/yh_zoo/.local/lib/python3.8/site-packages/geopandas/_compat.py:111: UserWarning: The Shapely GEOS version (3.9.1-CAPI-1.14.2) is incompatible with the GEOS version PyGEOS was compiled with (3.10.1-CAPI-1.16.0). Conversions between both will be slow.\n",
      "  warnings.warn(\n"
     ]
    }
   ],
   "source": [
    "from module.convert_data import generate_simulation_base_data\n",
    "\n",
    "passenger, taxi, YMD = generate_simulation_base_data(taxi_raw_data, target_place='New York County, 뉴욕, 미국')"
   ]
  },
  {
   "cell_type": "markdown",
   "metadata": {},
   "source": [
    "---"
   ]
  },
  {
   "cell_type": "code",
   "execution_count": 3,
   "metadata": {},
   "outputs": [
    {
     "name": "stderr",
     "output_type": "stream",
     "text": [
      "100%|██████████| 1440/1440 [14:11<00:00,  1.69it/s]\n"
     ]
    }
   ],
   "source": [
    "from module.dispatch_helper import *\n",
    "from module.dashboard_plot import *\n",
    "import pickle\n",
    "\n",
    "result = dispatch_module(passenger, taxi, YMD, dispatch_mode='OSRM')\n",
    "\n",
    "#all data save\n",
    "result[2].extend([passenger, taxi, YMD])\n",
    "\n",
    "with open('./data/result_data/all_data/result.pickle', 'wb') as f:\n",
    "    pickle.dump(result, f)"
   ]
  },
  {
   "cell_type": "code",
   "execution_count": 1,
   "metadata": {},
   "outputs": [
    {
     "name": "stderr",
     "output_type": "stream",
     "text": [
      "/home/yh_zoo/.local/lib/python3.8/site-packages/geopandas/_compat.py:111: UserWarning: The Shapely GEOS version (3.9.1-CAPI-1.14.2) is incompatible with the GEOS version PyGEOS was compiled with (3.10.1-CAPI-1.16.0). Conversions between both will be slow.\n",
      "  warnings.warn(\n"
     ]
    }
   ],
   "source": [
    "from module.dashboard_plot import *\n",
    "import pickle\n",
    "\n",
    "with open('./data/result_data/all_data/result.pickle', 'rb') as f:\n",
    "    result = pickle.load(f)\n",
    "    \n",
    "make_dashboard_plot(result, path='./data/result_data/dashboard_plot/')\n",
    "\n",
    "import json\n",
    "import pickle\n",
    "\n",
    "### simulation data save\n",
    "trips_simulation_data, passenger_simulation_data , empty_taxi_simulation_data = result[0]\n",
    "\n",
    "# trip\n",
    "with open(f'./data/result_data/simulation_data/trip.json', 'w') as f:\n",
    "    json.dump(trips_simulation_data,f)\n",
    "\n",
    "# passenger\n",
    "with open(f'./data/result_data/simulation_data/passenger.json', 'w') as f:\n",
    "    json.dump(passenger_simulation_data,f)\n",
    "\n",
    "# empty_taxi\n",
    "with open(f'./data/result_data/simulation_data/empty_taxi.json', 'w') as f:\n",
    "    json.dump(empty_taxi_simulation_data,f)"
   ]
  }
 ],
 "metadata": {
  "kernelspec": {
   "display_name": "Python 3.8.10 64-bit",
   "language": "python",
   "name": "python3"
  },
  "language_info": {
   "codemirror_mode": {
    "name": "ipython",
    "version": 3
   },
   "file_extension": ".py",
   "mimetype": "text/x-python",
   "name": "python",
   "nbconvert_exporter": "python",
   "pygments_lexer": "ipython3",
   "version": "3.8.10"
  },
  "orig_nbformat": 4,
  "vscode": {
   "interpreter": {
    "hash": "916dbcbb3f70747c44a77c7bcd40155683ae19c65e1c03b4aa3499c5328201f1"
   }
  }
 },
 "nbformat": 4,
 "nbformat_minor": 2
}
